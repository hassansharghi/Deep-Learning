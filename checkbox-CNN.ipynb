{
 "cells": [
  {
   "cell_type": "code",
   "execution_count": 1,
   "metadata": {},
   "outputs": [
    {
     "name": "stderr",
     "output_type": "stream",
     "text": [
      "Using TensorFlow backend.\n"
     ]
    }
   ],
   "source": [
    "import warnings\n",
    "warnings.filterwarnings('ignore')\n",
    "\n",
    "import pandas as pd\n",
    "import numpy as np\n",
    "import os\n",
    "import shutil\n",
    "from PIL import Image\n",
    "import pydot\n",
    "import matplotlib.pyplot as plt\n",
    "from matplotlib.pyplot import imshow\n",
    "from sklearn.model_selection import train_test_split\n",
    "from keras import layers\n",
    "from keras.layers import Input, Dense, Activation, ZeroPadding2D, BatchNormalization, Flatten, Conv2D\n",
    "from keras.layers import AveragePooling2D, MaxPooling2D, Dropout, GlobalMaxPooling2D, GlobalAveragePooling2D\n",
    "from keras.models import Model\n",
    "from keras.preprocessing import image\n",
    "from keras.utils import layer_utils\n",
    "from keras.applications.imagenet_utils import preprocess_input\n",
    "\n",
    "%matplotlib inline\n",
    "warnings.filterwarnings('ignore')\n"
   ]
  },
  {
   "cell_type": "markdown",
   "metadata": {},
   "source": [
    "# Data Engineering, Analysis, Pipeline\n",
    "\n",
    "hey data !\n",
    "\n",
    "where are you?\n",
    "what do you look like?\n"
   ]
  },
  {
   "cell_type": "code",
   "execution_count": 2,
   "metadata": {},
   "outputs": [],
   "source": [
    "# extract label from a file name\n",
    "def extract_label(name_path):\n",
    "    if \"/\" in name_path:\n",
    "        seperator = '/'\n",
    "    else:\n",
    "        seperator = '\\\\'\n",
    "    words = name_path.split(seperator)\n",
    "    size = len(words) \n",
    "    if words:\n",
    "        if \".checked\" in words[size - 1].lower():\n",
    "            return \"checked\", words[size - 1].lower(), 1, 1\n",
    "        elif \".open\" in words[size - 1].lower():\n",
    "            return \"open\", words[size - 1].lower(), 1, 0\n",
    "        elif \".not\" in words[size - 1].lower():\n",
    "            return \"not\", words[size - 1].lower(), 0, -1\n",
    "\n",
    "    return \"unknown\", words[size - 1].lower()\n",
    "\n"
   ]
  },
  {
   "cell_type": "code",
   "execution_count": 3,
   "metadata": {},
   "outputs": [
    {
     "name": "stdout",
     "output_type": "stream",
     "text": [
      "('open', 'checkbox-01.open.png', 1, 0)\n"
     ]
    }
   ],
   "source": [
    "# test\n",
    "print(extract_label(\"./checkbox-data/dataset-mleng-exercise/editor-1/{00A64232-DEEF-27DF-D914-806388DB0660}.pdf.results/checkbox-01.open.png\"))"
   ]
  },
  {
   "cell_type": "code",
   "execution_count": 4,
   "metadata": {},
   "outputs": [],
   "source": [
    "# collecting images and extracting labels\n",
    "\n",
    "def collect_image_files(data_path, image_id):\n",
    "        \n",
    "    df = pd.DataFrame(columns=['path', 'image_id', 'name', 'label', 'is_checkbox', 'checked'])\n",
    "\n",
    "    for root, dirs, files in os.walk(data_path): \n",
    "        for dir in dirs:\n",
    "            if dir != \"PaxHeader\":\n",
    "                path_dir = root + '/' + dir\n",
    "                for r, subdir, files in os.walk(path_dir):\n",
    "                    for file in files:\n",
    "                        if \"._\" not in file and \".DS_Store\" not in file:\n",
    "                            path_file = path_dir + '/' + file\n",
    "                            label, name, is_checkbox, checked = extract_label(path_file)\n",
    "                            image_id += 1\n",
    "                            df = df.append({'path':path_file , 'image_id': str(image_id), 'name':name ,'label':label, 'is_checkbox':is_checkbox, 'checked':checked}, ignore_index=True)\n",
    "\n",
    "    print(\"collecting imgae files. Done!\")\n",
    "    return df, image_id\n"
   ]
  },
  {
   "cell_type": "code",
   "execution_count": 5,
   "metadata": {
    "scrolled": true
   },
   "outputs": [
    {
     "name": "stdout",
     "output_type": "stream",
     "text": [
      "collecting imgae files. Done!\n",
      "collecting imgae files. Done!\n"
     ]
    }
   ],
   "source": [
    "# It was assumed that data is provided by two different sources: editor-0 and editor-1\n",
    "# imaged id is started from 0\n",
    "# labels and metadata about images are recorded in a dataframe with following columns\n",
    "# ['path', 'image_id', 'name', 'label', 'is_checkbox', 'checked']\n",
    "\n",
    "input_path = \"D:/Hassan/data/checkbox-data/dataset-mleng-exercise\"\n",
    "\n",
    "df1, number_of_file = collect_image_files(input_path + \"/editor-0\", 0)\n",
    "df2, number_of_file = collect_image_files(input_path + \"/editor-1\", number_of_file)\n",
    "\n",
    "df = pd.concat([df1, df2], axis=0)"
   ]
  },
  {
   "cell_type": "code",
   "execution_count": 6,
   "metadata": {
    "scrolled": true
   },
   "outputs": [
    {
     "name": "stdout",
     "output_type": "stream",
     "text": [
      "                                                  path image_id  \\\n",
      "35   D:/Hassan/Data Analysis/Interview/Scienceclini...      595   \n",
      "267  D:/Hassan/Data Analysis/Interview/Scienceclini...      827   \n",
      "254  D:/Hassan/Data Analysis/Interview/Scienceclini...      814   \n",
      "\n",
      "                        name    label is_checkbox checked  \n",
      "35      checkbox-04.open.png     open           1       0  \n",
      "267  checkbox-22.checked.png  checked           1       1  \n",
      "254  checkbox-09.checked.png  checked           1       1  \n",
      "number of images: 1427\n",
      "number of not-a-checkbox: 427\n",
      "number of checked-checkbox: 374\n",
      "number of open-checkbox: 626\n"
     ]
    },
    {
     "data": {
      "image/png": "[encoded data removed]",
      "text/plain": [
       "<Figure size 432x288 with 1 Axes>"
      ]
     },
     "metadata": {
      "needs_background": "light"
     },
     "output_type": "display_data"
    }
   ],
   "source": [
    "# Lets take a look into the dataset\n",
    "\n",
    "print(df.sample(3))\n",
    "df['label'].value_counts().plot(kind=\"bar\", title= \"number of images per label\")\n",
    "print(\"number of images: \"  +  str(df.shape[0]))\n",
    "print(\"number of not-a-checkbox: \" + str(df[df['label']==\"not\"].shape[0]))\n",
    "print(\"number of checked-checkbox: \" + str( df[df['label']==\"checked\"].shape[0]))\n",
    "print(\"number of open-checkbox: \" + str(df[df['label']==\"open\"].shape[0]))"
   ]
  },
  {
   "cell_type": "markdown",
   "metadata": {},
   "source": [
    "There are 427 not-a-checkbox and 1000 checkbox images. ----> ratio=2.3 ---> almost imbalanced\n",
    "\n",
    "There are 374 checked-checkbox and 626 open-checkbox images ----> ratio=1.6 ---> almost imbalanced"
   ]
  },
  {
   "cell_type": "code",
   "execution_count": 7,
   "metadata": {},
   "outputs": [],
   "source": [
    "# copy and rename images to working directory. file name turns into image id.\n",
    "\n",
    "def copy_rename_file(row, work_dir, rename=True):\n",
    "    shutil.copy2(row['path'], work_dir)\n",
    "    if rename:\n",
    "        os.rename(work_dir + '/' + row['name'], work_dir + '/' + row['image_id'] + '.png')\n",
    "    \n",
    "def transfer_image_work_dir(df, work_dir, folder, label=None):\n",
    "    os.chdir(work_dir)\n",
    "    if os.path.isdir(folder): \n",
    "        images_dir = work_dir + \"/\" + folder\n",
    "        for root, dirs, files in os.walk(images_dir):\n",
    "            for file in files:\n",
    "                file_name = images_dir + \"/\" + str(file)     \n",
    "                os.remove(file_name)\n",
    "    else:\n",
    "        os.mkdir(folder)\n",
    "            \n",
    "    work_dir = work_dir + \"/\" + folder    \n",
    "    if not label:\n",
    "        df.apply(lambda row: copy_rename_file(row, work_dir, rename=True), axis=1)\n",
    "\n",
    "    "
   ]
  },
  {
   "cell_type": "code",
   "execution_count": 8,
   "metadata": {
    "scrolled": true
   },
   "outputs": [],
   "source": [
    "# working directory is called \"images\"\n",
    "# if it doesn't exist, it'll be created\n",
    "# if it exists, contents will be deleted then repopulated again \n",
    "\n",
    "work_path = \"D:/Hassan/data/checkbox-data/dataset-mleng-exercise\"\n",
    "folder_name = \"images\"\n",
    "transfer_image_work_dir(df, work_path, folder_name)\n",
    "\n"
   ]
  },
  {
   "cell_type": "markdown",
   "metadata": {},
   "source": [
    "# Model 1: Binary classification for checkbox/not-a-checkbox\n",
    "\n",
    "Input: a checkbox image\n",
    "\n",
    "Output:\n",
    "\n",
    "    1: checkBox\n",
    "\n",
    "    0: not-a-checkBox"
   ]
  },
  {
   "cell_type": "code",
   "execution_count": 9,
   "metadata": {},
   "outputs": [
    {
     "name": "stdout",
     "output_type": "stream",
     "text": [
      "number of training images = (1070,)\n",
      "number of test images = (357,)\n",
      "Y_train shape: (1070,)\n",
      "Y_test shape: (357,)\n"
     ]
    }
   ],
   "source": [
    "# Split the data into training and test sets\n",
    "X = df['image_id']\n",
    "y= df['is_checkbox']\n",
    "\n",
    "X_train_df, X_test_df, y_train_df, y_test_df = train_test_split(X,y, random_state=0)   \n",
    "\n",
    "print (\"number of training images = \" + str(X_train_df.shape))\n",
    "print (\"number of test images = \" + str(X_test_df.shape))\n",
    "print (\"Y_train shape: \" + str(y_train_df.shape))\n",
    "print (\"Y_test shape: \" + str(y_test_df.shape))\n"
   ]
  },
  {
   "cell_type": "code",
   "execution_count": 10,
   "metadata": {},
   "outputs": [
    {
     "name": "stdout",
     "output_type": "stream",
     "text": [
      "number of training images = 1070\n",
      "number of test images = 357\n",
      "X_train shape: (1070, 30, 30, 4)\n",
      "Y_train shape: (1070, 1)\n",
      "X_test shape: (357, 30, 30, 4)\n",
      "Y_test shape: (357, 1)\n"
     ]
    }
   ],
   "source": [
    "# read, resize and normalize image data\n",
    "\n",
    "work_dir = \"D:/Hassan/data/checkbox-data/dataset-mleng-exercise/images/\"\n",
    "\n",
    "height = 30\n",
    "width = 30\n",
    "\n",
    "X_train = np.array([np.array(Image.open(work_dir + image_id + '.png').resize((height,width))) for image_id in X_train_df])\n",
    "Y_train = y_train_df.to_numpy().reshape(( len(y_train_df), 1)) \n",
    "\n",
    "X_test = np.array([np.array(Image.open(work_dir + image_id + '.png').resize((height,width))) for image_id in X_test_df])\n",
    "Y_test = y_test_df.to_numpy().reshape(( len(y_test_df), 1)) \n",
    "\n",
    "# Normalize image vectors\n",
    "X_train = X_train/255.\n",
    "X_test = X_test/255.\n",
    "\n",
    "print (\"number of training images = \" + str(X_train.shape[0]))\n",
    "print (\"number of test images = \" + str(X_test.shape[0]))\n",
    "print (\"X_train shape: \" + str(X_train.shape))\n",
    "print (\"Y_train shape: \" + str(Y_train.shape))\n",
    "print (\"X_test shape: \" + str(X_test.shape))\n",
    "print (\"Y_test shape: \" + str(Y_test.shape))\n",
    "\n",
    "assert(X_train.shape == (1070,height,width,4))\n"
   ]
  },
  {
   "cell_type": "code",
   "execution_count": 13,
   "metadata": {
    "scrolled": false
   },
   "outputs": [
    {
     "name": "stdout",
     "output_type": "stream",
     "text": [
      "[1]\n"
     ]
    },
    {
     "data": {
      "image/png": "[encoded data removed]",
      "text/plain": [
       "<Figure size 432x288 with 1 Axes>"
      ]
     },
     "metadata": {
      "needs_background": "light"
     },
     "output_type": "display_data"
    }
   ],
   "source": [
    "# test the loaded image data\n",
    "index = 9\n",
    "\n",
    "# to see index and image id\n",
    "# for i, image_id in enumerate(X_train_df):\n",
    "#     print(i,image_id)    \n",
    "\n",
    "plt.imshow(X_train[index])\n",
    "print(Y_train[index])"
   ]
  },
  {
   "cell_type": "code",
   "execution_count": 14,
   "metadata": {},
   "outputs": [],
   "source": [
    "def CheckboxModel(input_shape):    \n",
    "    \n",
    "    X_input = Input(input_shape)\n",
    "\n",
    "    # Zero-Padding: pads the border of X_input with zeroes\n",
    "    X = ZeroPadding2D((3, 3))(X_input)\n",
    "\n",
    "    # CONV -> BN -> RELU Block applied to X\n",
    "    X = Conv2D(32, (3, 3), strides = (1, 1), name = 'conv0')(X)\n",
    "    X = BatchNormalization(axis = 3, name = 'bn0')(X)\n",
    "    X = Activation('relu')(X)\n",
    "        \n",
    "    # MAXPOOL\n",
    "    X = MaxPooling2D((2, 2), name ='max_pool1')(X)\n",
    "    \n",
    "    # FLATTEN X (means convert it to a vector) + FULLYCONNECTED\n",
    "    X = Flatten()(X)\n",
    "    X = Dense(1, activation='sigmoid', name='fc')(X)\n",
    "\n",
    "    # Create model. This creates the Keras model instance, I'll use this instance to train/test the model.\n",
    "    model = Model(inputs = X_input, outputs = X, name='CheckboxModel')    \n",
    "       \n",
    "    return model"
   ]
  },
  {
   "cell_type": "code",
   "execution_count": 15,
   "metadata": {},
   "outputs": [
    {
     "name": "stderr",
     "output_type": "stream",
     "text": [
      "WARNING: Logging before flag parsing goes to stderr.\n",
      "W1223 15:48:30.218142 19200 deprecation_wrapper.py:119] From C:\\Users\\Hassan\\Anaconda3\\envs\\deeplearning\\lib\\site-packages\\keras\\backend\\tensorflow_backend.py:74: The name tf.get_default_graph is deprecated. Please use tf.compat.v1.get_default_graph instead.\n",
      "\n",
      "W1223 15:48:30.770498 19200 deprecation_wrapper.py:119] From C:\\Users\\Hassan\\Anaconda3\\envs\\deeplearning\\lib\\site-packages\\keras\\backend\\tensorflow_backend.py:517: The name tf.placeholder is deprecated. Please use tf.compat.v1.placeholder instead.\n",
      "\n",
      "W1223 15:48:31.095981 19200 deprecation_wrapper.py:119] From C:\\Users\\Hassan\\Anaconda3\\envs\\deeplearning\\lib\\site-packages\\keras\\backend\\tensorflow_backend.py:4138: The name tf.random_uniform is deprecated. Please use tf.random.uniform instead.\n",
      "\n",
      "W1223 15:48:31.920072 19200 deprecation_wrapper.py:119] From C:\\Users\\Hassan\\Anaconda3\\envs\\deeplearning\\lib\\site-packages\\keras\\backend\\tensorflow_backend.py:174: The name tf.get_default_session is deprecated. Please use tf.compat.v1.get_default_session instead.\n",
      "\n",
      "W1223 15:48:31.924073 19200 deprecation_wrapper.py:119] From C:\\Users\\Hassan\\Anaconda3\\envs\\deeplearning\\lib\\site-packages\\keras\\backend\\tensorflow_backend.py:181: The name tf.ConfigProto is deprecated. Please use tf.compat.v1.ConfigProto instead.\n",
      "\n",
      "W1223 15:48:34.978069 19200 deprecation_wrapper.py:119] From C:\\Users\\Hassan\\Anaconda3\\envs\\deeplearning\\lib\\site-packages\\keras\\backend\\tensorflow_backend.py:1834: The name tf.nn.fused_batch_norm is deprecated. Please use tf.compat.v1.nn.fused_batch_norm instead.\n",
      "\n",
      "W1223 15:48:36.653154 19200 deprecation_wrapper.py:119] From C:\\Users\\Hassan\\Anaconda3\\envs\\deeplearning\\lib\\site-packages\\keras\\backend\\tensorflow_backend.py:3976: The name tf.nn.max_pool is deprecated. Please use tf.nn.max_pool2d instead.\n",
      "\n"
     ]
    }
   ],
   "source": [
    "checkboxModel = CheckboxModel((height, width, 4))"
   ]
  },
  {
   "cell_type": "code",
   "execution_count": 16,
   "metadata": {},
   "outputs": [
    {
     "name": "stderr",
     "output_type": "stream",
     "text": [
      "W1223 15:49:46.498580 19200 deprecation_wrapper.py:119] From C:\\Users\\Hassan\\Anaconda3\\envs\\deeplearning\\lib\\site-packages\\keras\\optimizers.py:790: The name tf.train.Optimizer is deprecated. Please use tf.compat.v1.train.Optimizer instead.\n",
      "\n",
      "W1223 15:49:46.746282 19200 deprecation.py:323] From C:\\Users\\Hassan\\Anaconda3\\envs\\deeplearning\\lib\\site-packages\\tensorflow\\python\\ops\\nn_impl.py:180: add_dispatch_support.<locals>.wrapper (from tensorflow.python.ops.array_ops) is deprecated and will be removed in a future version.\n",
      "Instructions for updating:\n",
      "Use tf.where in 2.0, which has the same broadcast rule as np.where\n"
     ]
    }
   ],
   "source": [
    "checkboxModel.compile(optimizer = \"Adam\", loss = \"binary_crossentropy\", metrics = [\"accuracy\"])"
   ]
  },
  {
   "cell_type": "code",
   "execution_count": 17,
   "metadata": {},
   "outputs": [
    {
     "name": "stdout",
     "output_type": "stream",
     "text": [
      "Epoch 1/30\n",
      "1070/1070 [==============================] - 26s 25ms/step - loss: 0.6185 - acc: 0.7187\n",
      "Epoch 2/30\n",
      "1070/1070 [==============================] - 10s 10ms/step - loss: 0.4382 - acc: 0.7916\n",
      "Epoch 3/30\n",
      "1070/1070 [==============================] - 11s 10ms/step - loss: 0.4035 - acc: 0.8178\n",
      "Epoch 4/30\n",
      "1070/1070 [==============================] - 10s 10ms/step - loss: 0.3146 - acc: 0.8757\n",
      "Epoch 5/30\n",
      "1070/1070 [==============================] - 9s 9ms/step - loss: 0.2502 - acc: 0.8981A: 3s - loss: 0.2525 - acc: 0.899 - ETA: 3s \n",
      "Epoch 6/30\n",
      "1070/1070 [==============================] - 10s 9ms/step - loss: 0.2447 - acc: 0.9019\n",
      "Epoch 7/30\n",
      "1070/1070 [==============================] - 9s 9ms/step - loss: 0.2079 - acc: 0.9299\n",
      "Epoch 8/30\n",
      "1070/1070 [==============================] - 10s 9ms/step - loss: 0.1743 - acc: 0.9411\n",
      "Epoch 9/30\n",
      "1070/1070 [==============================] - 9s 9ms/step - loss: 0.1775 - acc: 0.9327\n",
      "Epoch 10/30\n",
      "1070/1070 [==============================] - 11s 10ms/step - loss: 0.1886 - acc: 0.9271\n",
      "Epoch 11/30\n",
      "1070/1070 [==============================] - 9s 9ms/step - loss: 0.1422 - acc: 0.9514\n",
      "Epoch 12/30\n",
      "1070/1070 [==============================] - 10s 9ms/step - loss: 0.1172 - acc: 0.9673\n",
      "Epoch 13/30\n",
      "1070/1070 [==============================] - 9s 8ms/step - loss: 0.1085 - acc: 0.9701A: 0s - loss: 0.1109 - acc:\n",
      "Epoch 14/30\n",
      "1070/1070 [==============================] - 8s 7ms/step - loss: 0.1084 - acc: 0.9626\n",
      "Epoch 15/30\n",
      "1070/1070 [==============================] - 9s 8ms/step - loss: 0.0930 - acc: 0.9729A: 1s - loss: 0.0874 - a\n",
      "Epoch 16/30\n",
      "1070/1070 [==============================] - 8s 7ms/step - loss: 0.0854 - acc: 0.9720\n",
      "Epoch 17/30\n",
      "1070/1070 [==============================] - 9s 9ms/step - loss: 0.0821 - acc: 0.9776A: 6s - ETA: 3s - loss - ETA: 0s - loss: 0.0808 - acc: 0.9\n",
      "Epoch 18/30\n",
      "1070/1070 [==============================] - 8s 7ms/step - loss: 0.0770 - acc: 0.9757\n",
      "Epoch 19/30\n",
      "1070/1070 [==============================] - 8s 8ms/step - loss: 0.0652 - acc: 0.9813A: 0s - loss: 0.0633 - acc: 0.9\n",
      "Epoch 20/30\n",
      "1070/1070 [==============================] - 8s 7ms/step - loss: 0.0598 - acc: 0.9813\n",
      "Epoch 21/30\n",
      "1070/1070 [==============================] - 9s 8ms/step - loss: 0.0415 - acc: 0.9925\n",
      "Epoch 22/30\n",
      "1070/1070 [==============================] - 8s 7ms/step - loss: 0.0444 - acc: 0.9869\n",
      "Epoch 23/30\n",
      "1070/1070 [==============================] - 7s 7ms/step - loss: 0.0454 - acc: 0.9907A: 1s - loss: 0.0418\n",
      "Epoch 24/30\n",
      "1070/1070 [==============================] - 5s 5ms/step - loss: 0.0404 - acc: 0.9897\n",
      "Epoch 25/30\n",
      "1070/1070 [==============================] - 4s 3ms/step - loss: 0.0288 - acc: 0.9944A: 2s - loss: 0.0361 - acc: 0 - ETA: \n",
      "Epoch 26/30\n",
      "1070/1070 [==============================] - 4s 3ms/step - loss: 0.0385 - acc: 0.9897A: 2s - loss: 0.0434 - acc: 0 - ETA: 1s - l\n",
      "Epoch 27/30\n",
      "1070/1070 [==============================] - 5s 5ms/step - loss: 0.0363 - acc: 0.9925\n",
      "Epoch 28/30\n",
      "1070/1070 [==============================] - 5s 5ms/step - loss: 0.0252 - acc: 0.9963\n",
      "Epoch 29/30\n",
      "1070/1070 [==============================] - 5s 4ms/step - loss: 0.0201 - acc: 0.9972\n",
      "Epoch 30/30\n",
      "1070/1070 [==============================] - 5s 5ms/step - loss: 0.0200 - acc: 0.9981\n"
     ]
    }
   ],
   "source": [
    "# Note that if you run fit() again, the model will continue to train with the parameters it has already learnt instead of reinitializing them.\n",
    "history = checkboxModel.fit(x = X_train, y = Y_train, epochs = 30, batch_size = 16)"
   ]
  },
  {
   "cell_type": "code",
   "execution_count": 18,
   "metadata": {},
   "outputs": [
    {
     "data": {
      "image/png": "[encoded data removed]",
      "text/plain": [
       "<Figure size 432x288 with 1 Axes>"
      ]
     },
     "metadata": {
      "needs_background": "light"
     },
     "output_type": "display_data"
    }
   ],
   "source": [
    "loss_values = history.history['loss']\n",
    "epochs = range(1, len(loss_values)+1)\n",
    "\n",
    "plt.plot(epochs, loss_values, label='Training Loss')\n",
    "plt.xlabel('Epochs')\n",
    "plt.ylabel('Loss')\n",
    "plt.legend()\n",
    "\n",
    "plt.show()"
   ]
  },
  {
   "cell_type": "code",
   "execution_count": 19,
   "metadata": {},
   "outputs": [
    {
     "name": "stdout",
     "output_type": "stream",
     "text": [
      "357/357 [==============================] - 3s 9ms/step\n",
      "\n",
      "Loss = 0.13251114941491676\n",
      "Test Accuracy = 0.9635854341736695\n"
     ]
    }
   ],
   "source": [
    "# prediction : apply model on the test data\n",
    "preds = checkboxModel.evaluate(x = X_test, y = Y_test)\n",
    "\n",
    "print()\n",
    "print (\"Loss = \" + str(preds[0]))\n",
    "print (\"Test Accuracy = \" + str(preds[1]))"
   ]
  },
  {
   "cell_type": "code",
   "execution_count": 22,
   "metadata": {
    "scrolled": false
   },
   "outputs": [
    {
     "name": "stdout",
     "output_type": "stream",
     "text": [
      "[[0.]]\n"
     ]
    },
    {
     "data": {
      "image/png": "[encoded data removed]",
      "text/plain": [
       "<Figure size 432x288 with 1 Axes>"
      ]
     },
     "metadata": {
      "needs_background": "light"
     },
     "output_type": "display_data"
    }
   ],
   "source": [
    "# feel free to test the model with an image\n",
    "\n",
    "imgage_path = \"D:/Hassan/data/checkbox-data/dataset-mleng-exercise/test_image/checkbox-02.not-checkbox.png\"\n",
    "\n",
    "img = image.load_img(imgage_path, target_size=(height, width, 4))\n",
    "imshow(img)\n",
    "\n",
    "if img.mode == \"RGB\":\n",
    "    # print(\"rgb\")\n",
    "    a_channel = Image.new('L', img.size, 128)   # 'L' 8-bit pixels, black and white\n",
    "    img.putalpha(a_channel)\n",
    "      \n",
    "x = image.img_to_array(img)\n",
    "# print(x.shape)\n",
    "x = np.expand_dims(x, axis=0)\n",
    "x = preprocess_input(x)\n",
    "\n",
    "print(checkboxModel.predict(x))"
   ]
  },
  {
   "cell_type": "markdown",
   "metadata": {},
   "source": [
    "# Model 2: Binary classification for checked/open\n",
    "\n",
    "Input: a checkbox image\n",
    "\n",
    "Output:\n",
    "\n",
    "    1: checked\n",
    "\n",
    "    0: open"
   ]
  },
  {
   "cell_type": "code",
   "execution_count": 23,
   "metadata": {},
   "outputs": [
    {
     "name": "stdout",
     "output_type": "stream",
     "text": [
      "(1000, 6)\n"
     ]
    },
    {
     "data": {
      "text/html": [
       "<div>\n",
       "<style scoped>\n",
       "    .dataframe tbody tr th:only-of-type {\n",
       "        vertical-align: middle;\n",
       "    }\n",
       "\n",
       "    .dataframe tbody tr th {\n",
       "        vertical-align: top;\n",
       "    }\n",
       "\n",
       "    .dataframe thead th {\n",
       "        text-align: right;\n",
       "    }\n",
       "</style>\n",
       "<table border=\"1\" class=\"dataframe\">\n",
       "  <thead>\n",
       "    <tr style=\"text-align: right;\">\n",
       "      <th></th>\n",
       "      <th>path</th>\n",
       "      <th>image_id</th>\n",
       "      <th>name</th>\n",
       "      <th>label</th>\n",
       "      <th>is_checkbox</th>\n",
       "      <th>checked</th>\n",
       "    </tr>\n",
       "  </thead>\n",
       "  <tbody>\n",
       "    <tr>\n",
       "      <td>417</td>\n",
       "      <td>D:/Hassan/Data Analysis/Interview/Scienceclini...</td>\n",
       "      <td>977</td>\n",
       "      <td>checkbox-03.checked.png</td>\n",
       "      <td>checked</td>\n",
       "      <td>1</td>\n",
       "      <td>1</td>\n",
       "    </tr>\n",
       "    <tr>\n",
       "      <td>772</td>\n",
       "      <td>D:/Hassan/Data Analysis/Interview/Scienceclini...</td>\n",
       "      <td>1332</td>\n",
       "      <td>checkbox-03.open.png</td>\n",
       "      <td>open</td>\n",
       "      <td>1</td>\n",
       "      <td>0</td>\n",
       "    </tr>\n",
       "    <tr>\n",
       "      <td>31</td>\n",
       "      <td>D:/Hassan/Data Analysis/Interview/Scienceclini...</td>\n",
       "      <td>32</td>\n",
       "      <td>checkbox-02.open.png</td>\n",
       "      <td>open</td>\n",
       "      <td>1</td>\n",
       "      <td>0</td>\n",
       "    </tr>\n",
       "  </tbody>\n",
       "</table>\n",
       "</div>"
      ],
      "text/plain": [
       "                                                  path image_id  \\\n",
       "417  D:/Hassan/Data Analysis/Interview/Scienceclini...      977   \n",
       "772  D:/Hassan/Data Analysis/Interview/Scienceclini...     1332   \n",
       "31   D:/Hassan/Data Analysis/Interview/Scienceclini...       32   \n",
       "\n",
       "                        name    label is_checkbox checked  \n",
       "417  checkbox-03.checked.png  checked           1       1  \n",
       "772     checkbox-03.open.png     open           1       0  \n",
       "31      checkbox-02.open.png     open           1       0  "
      ]
     },
     "execution_count": 23,
     "metadata": {},
     "output_type": "execute_result"
    }
   ],
   "source": [
    "# extract checkbox images\n",
    "df_box = df[df['is_checkbox'] == 1]\n",
    "print(df_box.shape)\n",
    "df_box.sample(3)\n",
    "#df['checked'].unique()"
   ]
  },
  {
   "cell_type": "code",
   "execution_count": 24,
   "metadata": {},
   "outputs": [
    {
     "name": "stdout",
     "output_type": "stream",
     "text": [
      "number of training images = (750,)\n",
      "number of test images = (250,)\n",
      "Y_train shape: (750,)\n",
      "Y_test shape: (250,)\n"
     ]
    }
   ],
   "source": [
    "# Split the data into training and test sets\n",
    "X = df_box['image_id']\n",
    "y= df_box['checked']\n",
    "\n",
    "X_train_df, X_test_df, y_train_df, y_test_df = train_test_split(X,y, random_state=0) \n",
    "\n",
    "print (\"number of training images = \" + str(X_train_df.shape))\n",
    "print (\"number of test images = \" + str(X_test_df.shape))\n",
    "print (\"Y_train shape: \" + str(y_train_df.shape))\n",
    "print (\"Y_test shape: \" + str(y_test_df.shape))\n",
    "\n"
   ]
  },
  {
   "cell_type": "code",
   "execution_count": 25,
   "metadata": {},
   "outputs": [
    {
     "name": "stdout",
     "output_type": "stream",
     "text": [
      "number of training images = 750\n",
      "number of test images = 250\n",
      "X_train shape: (750, 30, 30, 4)\n",
      "Y_train shape: (750, 1)\n",
      "X_test shape: (250, 30, 30, 4)\n",
      "Y_test shape: (250, 1)\n"
     ]
    }
   ],
   "source": [
    "work_dir = \"D:/Hassan/data/checkbox-data/dataset-mleng-exercise/images/\"\n",
    "height = 30\n",
    "width = 30\n",
    "\n",
    "#img = np.array(Image.open(work_dir + '1.png').resize((50,50)))\n",
    "\n",
    "X_train = np.array([np.array(Image.open(work_dir + image_id + '.png').resize((height, width))) for image_id in X_train_df])\n",
    "Y_train = y_train_df.to_numpy().reshape(( len(y_train_df), 1)) \n",
    "\n",
    "X_test = np.array([np.array(Image.open(work_dir + image_id + '.png').resize((height, width))) for image_id in X_test_df])\n",
    "Y_test = y_test_df.to_numpy().reshape(( len(y_test_df), 1)) \n",
    "\n",
    "# Normalize image vectors\n",
    "X_train = X_train/255.\n",
    "X_test = X_test/255.\n",
    "\n",
    "print (\"number of training images = \" + str(X_train.shape[0]))\n",
    "print (\"number of test images = \" + str(X_test.shape[0]))\n",
    "print (\"X_train shape: \" + str(X_train.shape))\n",
    "print (\"Y_train shape: \" + str(Y_train.shape))\n",
    "print (\"X_test shape: \" + str(X_test.shape))\n",
    "print (\"Y_test shape: \" + str(Y_test.shape))\n",
    "\n",
    "assert(X_train.shape == (750,height,width,4))\n"
   ]
  },
  {
   "cell_type": "code",
   "execution_count": 26,
   "metadata": {
    "scrolled": true
   },
   "outputs": [
    {
     "name": "stdout",
     "output_type": "stream",
     "text": [
      "[1]\n"
     ]
    },
    {
     "data": {
      "image/png": "[encoded data removed]",
      "text/plain": [
       "<Figure size 432x288 with 1 Axes>"
      ]
     },
     "metadata": {
      "needs_background": "light"
     },
     "output_type": "display_data"
    }
   ],
   "source": [
    "# test the loaded image data \n",
    "index = 500\n",
    "\n",
    "# to see index and image id\n",
    "# for i, image_id in enumerate(X_train_df):\n",
    "#     print(i,image_id)    \n",
    "\n",
    "plt.imshow(X_train[index])\n",
    "print(Y_train[index])"
   ]
  },
  {
   "cell_type": "code",
   "execution_count": 27,
   "metadata": {},
   "outputs": [],
   "source": [
    "def CheckboxStatusModel(input_shape):    \n",
    "    \n",
    "    X_input = Input(input_shape)\n",
    "\n",
    "    # Zero-Padding: pads the border of X_input with zeroes\n",
    "    X = ZeroPadding2D((3, 3))(X_input)\n",
    "\n",
    "    # CONV -> BN -> RELU Block applied to X\n",
    "    X = Conv2D(32, (3, 3), strides = (1, 1), name = 'conv0')(X)\n",
    "    X = BatchNormalization(axis = 3, name = 'bn0')(X)\n",
    "    X = Activation('relu')(X)\n",
    "        \n",
    "    # MAXPOOL\n",
    "    X = MaxPooling2D((2, 2), name ='max_pool1')(X)\n",
    "    \n",
    "    # FLATTEN X (means convert it to a vector) + FULLYCONNECTED\n",
    "    X = Flatten()(X)\n",
    "    X = Dense(1, activation='sigmoid', name='fc')(X)\n",
    "\n",
    "    # Create model. This creates the Keras model instance, I'll use this instance to train/test the model.\n",
    "    model = Model(inputs = X_input, outputs = X, name='CheckboxStatusModel')    \n",
    "       \n",
    "    return model"
   ]
  },
  {
   "cell_type": "code",
   "execution_count": 28,
   "metadata": {},
   "outputs": [],
   "source": [
    "checkbox_status = CheckboxStatusModel((height, width, 4))"
   ]
  },
  {
   "cell_type": "code",
   "execution_count": 29,
   "metadata": {},
   "outputs": [],
   "source": [
    "checkbox_status.compile(optimizer = \"Adam\", loss = \"binary_crossentropy\", metrics = [\"accuracy\"])"
   ]
  },
  {
   "cell_type": "code",
   "execution_count": 30,
   "metadata": {},
   "outputs": [
    {
     "name": "stdout",
     "output_type": "stream",
     "text": [
      "Epoch 1/30\n",
      "750/750 [==============================] - 15s 20ms/step - loss: 0.5655 - acc: 0.7160\n",
      "Epoch 2/30\n",
      "750/750 [==============================] - 6s 7ms/step - loss: 0.3672 - acc: 0.8560\n",
      "Epoch 3/30\n",
      "750/750 [==============================] - 5s 7ms/step - loss: 0.2915 - acc: 0.8653\n",
      "Epoch 4/30\n",
      "750/750 [==============================] - 5s 7ms/step - loss: 0.2299 - acc: 0.9067\n",
      "Epoch 5/30\n",
      "750/750 [==============================] - 5s 6ms/step - loss: 0.2224 - acc: 0.9107\n",
      "Epoch 6/30\n",
      "750/750 [==============================] - 5s 6ms/step - loss: 0.1677 - acc: 0.9413A: 3s - loss: 0.1967 - acc - ETA: 2s - lo\n",
      "Epoch 7/30\n",
      "750/750 [==============================] - 5s 6ms/step - loss: 0.1708 - acc: 0.9307\n",
      "Epoch 8/30\n",
      "750/750 [==============================] - 5s 6ms/step - loss: 0.1050 - acc: 0.9680\n",
      "Epoch 9/30\n",
      "750/750 [==============================] - 5s 7ms/step - loss: 0.0988 - acc: 0.9653A: 2s - loss:\n",
      "Epoch 10/30\n",
      "750/750 [==============================] - 5s 7ms/step - loss: 0.0744 - acc: 0.9840\n",
      "Epoch 11/30\n",
      "750/750 [==============================] - 5s 7ms/step - loss: 0.0793 - acc: 0.9773A: 3s - loss: 0. - ETA: 1s - loss: 0.0733 -\n",
      "Epoch 12/30\n",
      "750/750 [==============================] - 4s 6ms/step - loss: 0.0858 - acc: 0.9680\n",
      "Epoch 13/30\n",
      "750/750 [==============================] - 5s 7ms/step - loss: 0.0509 - acc: 0.9867\n",
      "Epoch 14/30\n",
      "750/750 [==============================] - 5s 6ms/step - loss: 0.0367 - acc: 0.9947\n",
      "Epoch 15/30\n",
      "750/750 [==============================] - 5s 6ms/step - loss: 0.0379 - acc: 0.9947\n",
      "Epoch 16/30\n",
      "750/750 [==============================] - 5s 7ms/step - loss: 0.0524 - acc: 0.9867\n",
      "Epoch 17/30\n",
      "750/750 [==============================] - 5s 7ms/step - loss: 0.0222 - acc: 0.9973\n",
      "Epoch 18/30\n",
      "750/750 [==============================] - 5s 7ms/step - loss: 0.0256 - acc: 0.9973\n",
      "Epoch 19/30\n",
      "750/750 [==============================] - 5s 6ms/step - loss: 0.0295 - acc: 0.9947A: 2s - loss\n",
      "Epoch 20/30\n",
      "750/750 [==============================] - 5s 7ms/step - loss: 0.0154 - acc: 0.9987\n",
      "Epoch 21/30\n",
      "750/750 [==============================] - 5s 7ms/step - loss: 0.0152 - acc: 0.9987A: 2s - loss\n",
      "Epoch 22/30\n",
      "750/750 [==============================] - 5s 7ms/step - loss: 0.0123 - acc: 1.0000\n",
      "Epoch 23/30\n",
      "750/750 [==============================] - ETA: 0s - loss: 0.0102 - acc: 1.000 - 5s 7ms/step - loss: 0.0108 - acc: 1.0000\n",
      "Epoch 24/30\n",
      "750/750 [==============================] - 5s 7ms/step - loss: 0.0110 - acc: 1.0000\n",
      "Epoch 25/30\n",
      "750/750 [==============================] - 5s 7ms/step - loss: 0.0089 - acc: 1.0000\n",
      "Epoch 26/30\n",
      "750/750 [==============================] - 5s 6ms/step - loss: 0.0097 - acc: 1.0000A: 3s - loss: 0.0128 - acc: 1. -\n",
      "Epoch 27/30\n",
      "750/750 [==============================] - 4s 6ms/step - loss: 0.0081 - acc: 1.0000\n",
      "Epoch 28/30\n",
      "750/750 [==============================] - 5s 7ms/step - loss: 0.0069 - acc: 1.0000\n",
      "Epoch 29/30\n",
      "750/750 [==============================] - 5s 6ms/step - loss: 0.0056 - acc: 1.0000\n",
      "Epoch 30/30\n",
      "750/750 [==============================] - 5s 7ms/step - loss: 0.0063 - acc: 1.0000\n"
     ]
    },
    {
     "data": {
      "text/plain": [
       "<keras.callbacks.History at 0x112a0961688>"
      ]
     },
     "execution_count": 30,
     "metadata": {},
     "output_type": "execute_result"
    }
   ],
   "source": [
    "checkbox_status.fit(x = X_train, y = Y_train, epochs = 30, batch_size = 16)"
   ]
  },
  {
   "cell_type": "code",
   "execution_count": 31,
   "metadata": {},
   "outputs": [
    {
     "name": "stdout",
     "output_type": "stream",
     "text": [
      "250/250 [==============================] - 3s 12ms/step\n",
      "\n",
      "Loss = 0.16800924563407899\n",
      "Test Accuracy = 0.9600000004768372\n"
     ]
    }
   ],
   "source": [
    "# prediction : apply model on the test data\n",
    "preds = checkbox_status.evaluate(x = X_test, y = Y_test)\n",
    "\n",
    "print()\n",
    "print (\"Loss = \" + str(preds[0]))\n",
    "print (\"Test Accuracy = \" + str(preds[1]))"
   ]
  },
  {
   "cell_type": "code",
   "execution_count": 33,
   "metadata": {
    "scrolled": true
   },
   "outputs": [
    {
     "name": "stdout",
     "output_type": "stream",
     "text": [
      "[[1.]]\n"
     ]
    },
    {
     "data": {
      "image/png": "[encoded data removed]",
      "text/plain": [
       "<Figure size 432x288 with 1 Axes>"
      ]
     },
     "metadata": {
      "needs_background": "light"
     },
     "output_type": "display_data"
    }
   ],
   "source": [
    "# feel free to test the model with an image\n",
    "\n",
    "imgage_path = \"D:/Hassan/data/checkbox-data/dataset-mleng-exercise/test_image/46.png\"\n",
    "\n",
    "img = image.load_img(imgage_path, target_size=(height, width, 4))\n",
    "imshow(img)\n",
    "\n",
    "if img.mode == \"RGB\":\n",
    "    # print(\"rgb\")\n",
    "    a_channel = Image.new('L', img.size, 128)   # 'L' 8-bit pixels, black and white\n",
    "    img.putalpha(a_channel)\n",
    "      \n",
    "x = image.img_to_array(img)\n",
    "# print(x.shape)\n",
    "x = np.expand_dims(x, axis=0)\n",
    "x = preprocess_input(x)\n",
    "\n",
    "print(checkbox_status.predict(x))"
   ]
  },
  {
   "cell_type": "markdown",
   "metadata": {},
   "source": [
    "# TBD for Improvement:\n",
    "\n",
    "- applying image data augmentation and resolving imbalanced issue\n",
    "- add regularization\n",
    "- more preprocessing, e.g removing alpha channel, Dilation, Erosion \n",
    "- tune parameters\n",
    "- change the CNN architecture, ResNet\n",
    "\n"
   ]
  },
  {
   "cell_type": "markdown",
   "metadata": {},
   "source": [
    "# IDEA: looking into the text and image together\n",
    "I think the text around a checkbox is usefull to recognize the box. \n",
    "so, running two nets (CNN and RNN) parallely can increase the certainty of the detection.\n"
   ]
  },
  {
   "cell_type": "code",
   "execution_count": null,
   "metadata": {},
   "outputs": [],
   "source": []
  }
 ],
 "metadata": {
  "kernelspec": {
   "display_name": "Python 3",
   "language": "python",
   "name": "python3"
  },
  "language_info": {
   "codemirror_mode": {
    "name": "ipython",
    "version": 3
   },
   "file_extension": ".py",
   "mimetype": "text/x-python",
   "name": "python",
   "nbconvert_exporter": "python",
   "pygments_lexer": "ipython3",
   "version": "3.6.4"
  }
 },
 "nbformat": 4,
 "nbformat_minor": 2
}
